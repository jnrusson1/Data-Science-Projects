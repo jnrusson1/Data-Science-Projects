{
 "cells": [
  {
   "cell_type": "code",
   "execution_count": 109,
   "metadata": {},
   "outputs": [],
   "source": [
    "import pandas as pd\n",
    "import numpy as np\n",
    "import seaborn as sns\n",
    "import scipy.stats as stats\n",
    "import scipy\n",
    "import matplotlib.pyplot as plt\n",
    "%matplotlib inline"
   ]
  },
  {
   "cell_type": "code",
   "execution_count": 110,
   "metadata": {},
   "outputs": [],
   "source": [
    "df=pd.read_csv('LoanStats_2017Q2.csv')"
   ]
  },
  {
   "cell_type": "code",
   "execution_count": 111,
   "metadata": {},
   "outputs": [],
   "source": [
    "risk =['Late (16-30 days)','Late (31-120 days)','Charged Off','In Grace Period']\n",
    "\n",
    "no_risk =['Current','Fully Paid']\n",
    "\n",
    "def binary_maker(x):\n",
    "    if x in risk:\n",
    "        return 0\n",
    "    else:\n",
    "        return 1\n",
    "    \n",
    "df['loan_status']=df['loan_status'].apply(lambda x:binary_maker(x))    "
   ]
  },
  {
   "cell_type": "code",
   "execution_count": 112,
   "metadata": {},
   "outputs": [
    {
     "data": {
      "text/plain": [
       "1    103746\n",
       "0      1705\n",
       "Name: loan_status, dtype: int64"
      ]
     },
     "execution_count": 112,
     "metadata": {},
     "output_type": "execute_result"
    }
   ],
   "source": [
    "x = df['loan_status']\n",
    "x.value_counts()"
   ]
  },
  {
   "cell_type": "code",
   "execution_count": 113,
   "metadata": {
    "scrolled": true
   },
   "outputs": [
    {
     "data": {
      "text/plain": [
       "<matplotlib.axes._subplots.AxesSubplot at 0x20611bc9f08>"
      ]
     },
     "execution_count": 113,
     "metadata": {},
     "output_type": "execute_result"
    },
    {
     "data": {
      "image/png": "[encoded data removed]",
      "text/plain": [
       "<Figure size 720x360 with 1 Axes>"
      ]
     },
     "metadata": {
      "needs_background": "light"
     },
     "output_type": "display_data"
    }
   ],
   "source": [
    "plt.figure(figsize=(10,5))\n",
    "\n",
    "\n",
    "sns.countplot(x)\n",
    "\n"
   ]
  },
  {
   "cell_type": "code",
   "execution_count": 114,
   "metadata": {},
   "outputs": [],
   "source": [
    "#filling certain columns that i think are NA due to not having a result. will sort this further down\n",
    "df[['mths_since_recent_bc_dlq','mths_since_last_major_derog','mths_since_recent_revol_delinq','mths_since_last_delinq']] = df[['mths_since_recent_bc_dlq','mths_since_last_major_derog','mths_since_recent_revol_delinq','mths_since_last_delinq']].fillna(-1)\n"
   ]
  },
  {
   "cell_type": "code",
   "execution_count": 115,
   "metadata": {},
   "outputs": [],
   "source": [
    "#setting max view and looking at dataframe\n",
    "pd.set_option('display.max_columns', None)\n"
   ]
  },
  {
   "cell_type": "code",
   "execution_count": 116,
   "metadata": {},
   "outputs": [
    {
     "data": {
      "text/html": [
       "<div>\n",
       "<style scoped>\n",
       "    .dataframe tbody tr th:only-of-type {\n",
       "        vertical-align: middle;\n",
       "    }\n",
       "\n",
       "    .dataframe tbody tr th {\n",
       "        vertical-align: top;\n",
       "    }\n",
       "\n",
       "    .dataframe thead th {\n",
       "        text-align: right;\n",
       "    }\n",
       "</style>\n",
       "<table border=\"1\" class=\"dataframe\">\n",
       "  <thead>\n",
       "    <tr style=\"text-align: right;\">\n",
       "      <th></th>\n",
       "      <th>id</th>\n",
       "      <th>member_id</th>\n",
       "      <th>url</th>\n",
       "      <th>desc</th>\n",
       "      <th>mths_since_last_record</th>\n",
       "      <th>annual_inc_joint</th>\n",
       "      <th>dti_joint</th>\n",
       "      <th>verification_status_joint</th>\n",
       "      <th>revol_bal_joint</th>\n",
       "      <th>sec_app_earliest_cr_line</th>\n",
       "      <th>sec_app_inq_last_6mths</th>\n",
       "      <th>sec_app_mort_acc</th>\n",
       "      <th>sec_app_open_acc</th>\n",
       "      <th>sec_app_revol_util</th>\n",
       "      <th>sec_app_open_il_6m</th>\n",
       "      <th>sec_app_num_rev_accts</th>\n",
       "      <th>sec_app_chargeoff_within_12_mths</th>\n",
       "      <th>sec_app_collections_12_mths_ex_med</th>\n",
       "      <th>sec_app_mths_since_last_major_derog</th>\n",
       "      <th>hardship_type</th>\n",
       "      <th>hardship_reason</th>\n",
       "      <th>hardship_status</th>\n",
       "      <th>deferral_term</th>\n",
       "      <th>hardship_amount</th>\n",
       "      <th>hardship_start_date</th>\n",
       "      <th>hardship_end_date</th>\n",
       "      <th>payment_plan_start_date</th>\n",
       "      <th>hardship_length</th>\n",
       "      <th>hardship_dpd</th>\n",
       "      <th>hardship_loan_status</th>\n",
       "      <th>orig_projected_additional_accrued_interest</th>\n",
       "      <th>hardship_payoff_balance_amount</th>\n",
       "      <th>hardship_last_payment_amount</th>\n",
       "    </tr>\n",
       "  </thead>\n",
       "  <tbody>\n",
       "    <tr>\n",
       "      <th>0</th>\n",
       "      <td>NaN</td>\n",
       "      <td>NaN</td>\n",
       "      <td>NaN</td>\n",
       "      <td>NaN</td>\n",
       "      <td>NaN</td>\n",
       "      <td>NaN</td>\n",
       "      <td>NaN</td>\n",
       "      <td>NaN</td>\n",
       "      <td>NaN</td>\n",
       "      <td>NaN</td>\n",
       "      <td>NaN</td>\n",
       "      <td>NaN</td>\n",
       "      <td>NaN</td>\n",
       "      <td>NaN</td>\n",
       "      <td>NaN</td>\n",
       "      <td>NaN</td>\n",
       "      <td>NaN</td>\n",
       "      <td>NaN</td>\n",
       "      <td>NaN</td>\n",
       "      <td>NaN</td>\n",
       "      <td>NaN</td>\n",
       "      <td>NaN</td>\n",
       "      <td>NaN</td>\n",
       "      <td>NaN</td>\n",
       "      <td>NaN</td>\n",
       "      <td>NaN</td>\n",
       "      <td>NaN</td>\n",
       "      <td>NaN</td>\n",
       "      <td>NaN</td>\n",
       "      <td>NaN</td>\n",
       "      <td>NaN</td>\n",
       "      <td>NaN</td>\n",
       "      <td>NaN</td>\n",
       "    </tr>\n",
       "    <tr>\n",
       "      <th>1</th>\n",
       "      <td>NaN</td>\n",
       "      <td>NaN</td>\n",
       "      <td>NaN</td>\n",
       "      <td>NaN</td>\n",
       "      <td>NaN</td>\n",
       "      <td>NaN</td>\n",
       "      <td>NaN</td>\n",
       "      <td>NaN</td>\n",
       "      <td>NaN</td>\n",
       "      <td>NaN</td>\n",
       "      <td>NaN</td>\n",
       "      <td>NaN</td>\n",
       "      <td>NaN</td>\n",
       "      <td>NaN</td>\n",
       "      <td>NaN</td>\n",
       "      <td>NaN</td>\n",
       "      <td>NaN</td>\n",
       "      <td>NaN</td>\n",
       "      <td>NaN</td>\n",
       "      <td>NaN</td>\n",
       "      <td>NaN</td>\n",
       "      <td>NaN</td>\n",
       "      <td>NaN</td>\n",
       "      <td>NaN</td>\n",
       "      <td>NaN</td>\n",
       "      <td>NaN</td>\n",
       "      <td>NaN</td>\n",
       "      <td>NaN</td>\n",
       "      <td>NaN</td>\n",
       "      <td>NaN</td>\n",
       "      <td>NaN</td>\n",
       "      <td>NaN</td>\n",
       "      <td>NaN</td>\n",
       "    </tr>\n",
       "    <tr>\n",
       "      <th>2</th>\n",
       "      <td>NaN</td>\n",
       "      <td>NaN</td>\n",
       "      <td>NaN</td>\n",
       "      <td>NaN</td>\n",
       "      <td>69.0</td>\n",
       "      <td>NaN</td>\n",
       "      <td>NaN</td>\n",
       "      <td>NaN</td>\n",
       "      <td>NaN</td>\n",
       "      <td>NaN</td>\n",
       "      <td>NaN</td>\n",
       "      <td>NaN</td>\n",
       "      <td>NaN</td>\n",
       "      <td>NaN</td>\n",
       "      <td>NaN</td>\n",
       "      <td>NaN</td>\n",
       "      <td>NaN</td>\n",
       "      <td>NaN</td>\n",
       "      <td>NaN</td>\n",
       "      <td>NaN</td>\n",
       "      <td>NaN</td>\n",
       "      <td>NaN</td>\n",
       "      <td>NaN</td>\n",
       "      <td>NaN</td>\n",
       "      <td>NaN</td>\n",
       "      <td>NaN</td>\n",
       "      <td>NaN</td>\n",
       "      <td>NaN</td>\n",
       "      <td>NaN</td>\n",
       "      <td>NaN</td>\n",
       "      <td>NaN</td>\n",
       "      <td>NaN</td>\n",
       "      <td>NaN</td>\n",
       "    </tr>\n",
       "    <tr>\n",
       "      <th>3</th>\n",
       "      <td>NaN</td>\n",
       "      <td>NaN</td>\n",
       "      <td>NaN</td>\n",
       "      <td>NaN</td>\n",
       "      <td>NaN</td>\n",
       "      <td>NaN</td>\n",
       "      <td>NaN</td>\n",
       "      <td>NaN</td>\n",
       "      <td>NaN</td>\n",
       "      <td>NaN</td>\n",
       "      <td>NaN</td>\n",
       "      <td>NaN</td>\n",
       "      <td>NaN</td>\n",
       "      <td>NaN</td>\n",
       "      <td>NaN</td>\n",
       "      <td>NaN</td>\n",
       "      <td>NaN</td>\n",
       "      <td>NaN</td>\n",
       "      <td>NaN</td>\n",
       "      <td>NaN</td>\n",
       "      <td>NaN</td>\n",
       "      <td>NaN</td>\n",
       "      <td>NaN</td>\n",
       "      <td>NaN</td>\n",
       "      <td>NaN</td>\n",
       "      <td>NaN</td>\n",
       "      <td>NaN</td>\n",
       "      <td>NaN</td>\n",
       "      <td>NaN</td>\n",
       "      <td>NaN</td>\n",
       "      <td>NaN</td>\n",
       "      <td>NaN</td>\n",
       "      <td>NaN</td>\n",
       "    </tr>\n",
       "    <tr>\n",
       "      <th>4</th>\n",
       "      <td>NaN</td>\n",
       "      <td>NaN</td>\n",
       "      <td>NaN</td>\n",
       "      <td>NaN</td>\n",
       "      <td>NaN</td>\n",
       "      <td>NaN</td>\n",
       "      <td>NaN</td>\n",
       "      <td>NaN</td>\n",
       "      <td>NaN</td>\n",
       "      <td>NaN</td>\n",
       "      <td>NaN</td>\n",
       "      <td>NaN</td>\n",
       "      <td>NaN</td>\n",
       "      <td>NaN</td>\n",
       "      <td>NaN</td>\n",
       "      <td>NaN</td>\n",
       "      <td>NaN</td>\n",
       "      <td>NaN</td>\n",
       "      <td>NaN</td>\n",
       "      <td>NaN</td>\n",
       "      <td>NaN</td>\n",
       "      <td>NaN</td>\n",
       "      <td>NaN</td>\n",
       "      <td>NaN</td>\n",
       "      <td>NaN</td>\n",
       "      <td>NaN</td>\n",
       "      <td>NaN</td>\n",
       "      <td>NaN</td>\n",
       "      <td>NaN</td>\n",
       "      <td>NaN</td>\n",
       "      <td>NaN</td>\n",
       "      <td>NaN</td>\n",
       "      <td>NaN</td>\n",
       "    </tr>\n",
       "  </tbody>\n",
       "</table>\n",
       "</div>"
      ],
      "text/plain": [
       "   id  member_id  url  desc  mths_since_last_record  annual_inc_joint  \\\n",
       "0 NaN        NaN  NaN   NaN                     NaN               NaN   \n",
       "1 NaN        NaN  NaN   NaN                     NaN               NaN   \n",
       "2 NaN        NaN  NaN   NaN                    69.0               NaN   \n",
       "3 NaN        NaN  NaN   NaN                     NaN               NaN   \n",
       "4 NaN        NaN  NaN   NaN                     NaN               NaN   \n",
       "\n",
       "   dti_joint verification_status_joint  revol_bal_joint  \\\n",
       "0        NaN                       NaN              NaN   \n",
       "1        NaN                       NaN              NaN   \n",
       "2        NaN                       NaN              NaN   \n",
       "3        NaN                       NaN              NaN   \n",
       "4        NaN                       NaN              NaN   \n",
       "\n",
       "  sec_app_earliest_cr_line  sec_app_inq_last_6mths  sec_app_mort_acc  \\\n",
       "0                      NaN                     NaN               NaN   \n",
       "1                      NaN                     NaN               NaN   \n",
       "2                      NaN                     NaN               NaN   \n",
       "3                      NaN                     NaN               NaN   \n",
       "4                      NaN                     NaN               NaN   \n",
       "\n",
       "   sec_app_open_acc  sec_app_revol_util  sec_app_open_il_6m  \\\n",
       "0               NaN                 NaN                 NaN   \n",
       "1               NaN                 NaN                 NaN   \n",
       "2               NaN                 NaN                 NaN   \n",
       "3               NaN                 NaN                 NaN   \n",
       "4               NaN                 NaN                 NaN   \n",
       "\n",
       "   sec_app_num_rev_accts  sec_app_chargeoff_within_12_mths  \\\n",
       "0                    NaN                               NaN   \n",
       "1                    NaN                               NaN   \n",
       "2                    NaN                               NaN   \n",
       "3                    NaN                               NaN   \n",
       "4                    NaN                               NaN   \n",
       "\n",
       "   sec_app_collections_12_mths_ex_med  sec_app_mths_since_last_major_derog  \\\n",
       "0                                 NaN                                  NaN   \n",
       "1                                 NaN                                  NaN   \n",
       "2                                 NaN                                  NaN   \n",
       "3                                 NaN                                  NaN   \n",
       "4                                 NaN                                  NaN   \n",
       "\n",
       "   hardship_type  hardship_reason  hardship_status  deferral_term  \\\n",
       "0            NaN              NaN              NaN            NaN   \n",
       "1            NaN              NaN              NaN            NaN   \n",
       "2            NaN              NaN              NaN            NaN   \n",
       "3            NaN              NaN              NaN            NaN   \n",
       "4            NaN              NaN              NaN            NaN   \n",
       "\n",
       "   hardship_amount  hardship_start_date  hardship_end_date  \\\n",
       "0              NaN                  NaN                NaN   \n",
       "1              NaN                  NaN                NaN   \n",
       "2              NaN                  NaN                NaN   \n",
       "3              NaN                  NaN                NaN   \n",
       "4              NaN                  NaN                NaN   \n",
       "\n",
       "   payment_plan_start_date  hardship_length  hardship_dpd  \\\n",
       "0                      NaN              NaN           NaN   \n",
       "1                      NaN              NaN           NaN   \n",
       "2                      NaN              NaN           NaN   \n",
       "3                      NaN              NaN           NaN   \n",
       "4                      NaN              NaN           NaN   \n",
       "\n",
       "   hardship_loan_status  orig_projected_additional_accrued_interest  \\\n",
       "0                   NaN                                         NaN   \n",
       "1                   NaN                                         NaN   \n",
       "2                   NaN                                         NaN   \n",
       "3                   NaN                                         NaN   \n",
       "4                   NaN                                         NaN   \n",
       "\n",
       "   hardship_payoff_balance_amount  hardship_last_payment_amount  \n",
       "0                             NaN                           NaN  \n",
       "1                             NaN                           NaN  \n",
       "2                             NaN                           NaN  \n",
       "3                             NaN                           NaN  \n",
       "4                             NaN                           NaN  "
      ]
     },
     "execution_count": 116,
     "metadata": {},
     "output_type": "execute_result"
    }
   ],
   "source": [
    "#creating a mask to find percents nan over 60 percent\n",
    "mask = df.columns[((df.isnull().sum()/105451)*100>=60)]\n",
    "df[mask].head()"
   ]
  },
  {
   "cell_type": "code",
   "execution_count": 117,
   "metadata": {},
   "outputs": [],
   "source": [
    "#dropping the NaN columns over 60 percent\n",
    "df.drop(mask,axis=1,inplace=True)"
   ]
  },
  {
   "cell_type": "code",
   "execution_count": 118,
   "metadata": {},
   "outputs": [
    {
     "data": {
      "text/html": [
       "<div>\n",
       "<style scoped>\n",
       "    .dataframe tbody tr th:only-of-type {\n",
       "        vertical-align: middle;\n",
       "    }\n",
       "\n",
       "    .dataframe tbody tr th {\n",
       "        vertical-align: top;\n",
       "    }\n",
       "\n",
       "    .dataframe thead th {\n",
       "        text-align: right;\n",
       "    }\n",
       "</style>\n",
       "<table border=\"1\" class=\"dataframe\">\n",
       "  <thead>\n",
       "    <tr style=\"text-align: right;\">\n",
       "      <th></th>\n",
       "      <th>emp_title</th>\n",
       "      <th>emp_length</th>\n",
       "      <th>dti</th>\n",
       "      <th>revol_util</th>\n",
       "      <th>last_pymnt_d</th>\n",
       "      <th>next_pymnt_d</th>\n",
       "      <th>last_credit_pull_d</th>\n",
       "      <th>mths_since_rcnt_il</th>\n",
       "      <th>il_util</th>\n",
       "      <th>all_util</th>\n",
       "      <th>avg_cur_bal</th>\n",
       "      <th>bc_open_to_buy</th>\n",
       "      <th>bc_util</th>\n",
       "      <th>mo_sin_old_il_acct</th>\n",
       "      <th>mths_since_recent_bc</th>\n",
       "      <th>mths_since_recent_inq</th>\n",
       "      <th>num_tl_120dpd_2m</th>\n",
       "      <th>percent_bc_gt_75</th>\n",
       "    </tr>\n",
       "  </thead>\n",
       "  <tbody>\n",
       "    <tr>\n",
       "      <th>0</th>\n",
       "      <td>teacher</td>\n",
       "      <td>10.0</td>\n",
       "      <td>25.61</td>\n",
       "      <td>105.80%</td>\n",
       "      <td>Aug-17</td>\n",
       "      <td>Sep-17</td>\n",
       "      <td>Aug-17</td>\n",
       "      <td>26.0</td>\n",
       "      <td>69.0</td>\n",
       "      <td>94.0</td>\n",
       "      <td>26051.0</td>\n",
       "      <td>94.0</td>\n",
       "      <td>96.1</td>\n",
       "      <td>26.0</td>\n",
       "      <td>2.0</td>\n",
       "      <td>8.0</td>\n",
       "      <td>0.0</td>\n",
       "      <td>100.0</td>\n",
       "    </tr>\n",
       "    <tr>\n",
       "      <th>1</th>\n",
       "      <td>Registered Nurse</td>\n",
       "      <td>9.0</td>\n",
       "      <td>31.58</td>\n",
       "      <td>86.70%</td>\n",
       "      <td>Aug-17</td>\n",
       "      <td>Sep-17</td>\n",
       "      <td>Aug-17</td>\n",
       "      <td>13.0</td>\n",
       "      <td>57.0</td>\n",
       "      <td>71.0</td>\n",
       "      <td>5855.0</td>\n",
       "      <td>1421.0</td>\n",
       "      <td>94.8</td>\n",
       "      <td>118.0</td>\n",
       "      <td>21.0</td>\n",
       "      <td>13.0</td>\n",
       "      <td>0.0</td>\n",
       "      <td>100.0</td>\n",
       "    </tr>\n",
       "    <tr>\n",
       "      <th>2</th>\n",
       "      <td>Dealer</td>\n",
       "      <td>7.0</td>\n",
       "      <td>12.19</td>\n",
       "      <td>12.40%</td>\n",
       "      <td>Aug-17</td>\n",
       "      <td>Sep-17</td>\n",
       "      <td>Aug-17</td>\n",
       "      <td>26.0</td>\n",
       "      <td>99.0</td>\n",
       "      <td>46.0</td>\n",
       "      <td>5862.0</td>\n",
       "      <td>48443.0</td>\n",
       "      <td>12.4</td>\n",
       "      <td>153.0</td>\n",
       "      <td>33.0</td>\n",
       "      <td>22.0</td>\n",
       "      <td>0.0</td>\n",
       "      <td>60.0</td>\n",
       "    </tr>\n",
       "    <tr>\n",
       "      <th>3</th>\n",
       "      <td>QA Manager</td>\n",
       "      <td>1.0</td>\n",
       "      <td>31.39</td>\n",
       "      <td>98%</td>\n",
       "      <td>Aug-17</td>\n",
       "      <td>Sep-17</td>\n",
       "      <td>Aug-17</td>\n",
       "      <td>13.0</td>\n",
       "      <td>51.0</td>\n",
       "      <td>98.0</td>\n",
       "      <td>112860.0</td>\n",
       "      <td>10514.0</td>\n",
       "      <td>100.0</td>\n",
       "      <td>46.0</td>\n",
       "      <td>8.0</td>\n",
       "      <td>0.0</td>\n",
       "      <td>NaN</td>\n",
       "      <td>100.0</td>\n",
       "    </tr>\n",
       "    <tr>\n",
       "      <th>4</th>\n",
       "      <td>Physician Assistant</td>\n",
       "      <td>0.0</td>\n",
       "      <td>18.34</td>\n",
       "      <td>48.60%</td>\n",
       "      <td>Aug-17</td>\n",
       "      <td>Sep-17</td>\n",
       "      <td>Aug-17</td>\n",
       "      <td>10.0</td>\n",
       "      <td>58.0</td>\n",
       "      <td>56.0</td>\n",
       "      <td>21193.0</td>\n",
       "      <td>9527.0</td>\n",
       "      <td>49.6</td>\n",
       "      <td>132.0</td>\n",
       "      <td>67.0</td>\n",
       "      <td>3.0</td>\n",
       "      <td>0.0</td>\n",
       "      <td>28.6</td>\n",
       "    </tr>\n",
       "  </tbody>\n",
       "</table>\n",
       "</div>"
      ],
      "text/plain": [
       "             emp_title  emp_length    dti revol_util last_pymnt_d  \\\n",
       "0              teacher        10.0  25.61    105.80%       Aug-17   \n",
       "1     Registered Nurse         9.0  31.58     86.70%       Aug-17   \n",
       "2               Dealer         7.0  12.19     12.40%       Aug-17   \n",
       "3           QA Manager         1.0  31.39        98%       Aug-17   \n",
       "4  Physician Assistant         0.0  18.34     48.60%       Aug-17   \n",
       "\n",
       "  next_pymnt_d last_credit_pull_d  mths_since_rcnt_il  il_util  all_util  \\\n",
       "0       Sep-17             Aug-17                26.0     69.0      94.0   \n",
       "1       Sep-17             Aug-17                13.0     57.0      71.0   \n",
       "2       Sep-17             Aug-17                26.0     99.0      46.0   \n",
       "3       Sep-17             Aug-17                13.0     51.0      98.0   \n",
       "4       Sep-17             Aug-17                10.0     58.0      56.0   \n",
       "\n",
       "   avg_cur_bal  bc_open_to_buy  bc_util  mo_sin_old_il_acct  \\\n",
       "0      26051.0            94.0     96.1                26.0   \n",
       "1       5855.0          1421.0     94.8               118.0   \n",
       "2       5862.0         48443.0     12.4               153.0   \n",
       "3     112860.0         10514.0    100.0                46.0   \n",
       "4      21193.0          9527.0     49.6               132.0   \n",
       "\n",
       "   mths_since_recent_bc  mths_since_recent_inq  num_tl_120dpd_2m  \\\n",
       "0                   2.0                    8.0               0.0   \n",
       "1                  21.0                   13.0               0.0   \n",
       "2                  33.0                   22.0               0.0   \n",
       "3                   8.0                    0.0               NaN   \n",
       "4                  67.0                    3.0               0.0   \n",
       "\n",
       "   percent_bc_gt_75  \n",
       "0             100.0  \n",
       "1             100.0  \n",
       "2              60.0  \n",
       "3             100.0  \n",
       "4              28.6  "
      ]
     },
     "execution_count": 118,
     "metadata": {},
     "output_type": "execute_result"
    }
   ],
   "source": [
    "nulls = df.columns[df.isnull().any()]\n",
    "\n",
    "df[nulls].head(5)"
   ]
  },
  {
   "cell_type": "code",
   "execution_count": 119,
   "metadata": {},
   "outputs": [],
   "source": [
    "#these columns represent too much work or not enough information. Emp title would be very useful but would take a long time to process.\n",
    "#may come back for this one. \n",
    "df.drop(['emp_title','out_prncp_inv', 'total_pymnt_inv','last_pymnt_amnt','last_credit_pull_d'],inplace=True,axis=1)"
   ]
  },
  {
   "cell_type": "code",
   "execution_count": 120,
   "metadata": {},
   "outputs": [],
   "source": [
    "#I'm assuming that for all people who do not have an employee length that they are unemployed.\n",
    "df['emp_length'].fillna(value=-1,inplace=True)\n",
    "\n",
    "\n",
    "# i am sorting by arbitrary employment lengths\n",
    "def clean_up(x):\n",
    "    if x < 0:\n",
    "        return 0\n",
    "    elif x <=1:\n",
    "        return 1\n",
    "    elif x<=5:\n",
    "        return 2\n",
    "    else:\n",
    "        return 3\n",
    "    \n",
    "# this function returns 0 for unemployed, 1 for 0-1 years 2 for 1-5 and 3 for 5+ years employment.\n",
    "\n",
    "df['emp_length'] = df['emp_length'].apply(lambda x: clean_up(x)).astype('category')\n"
   ]
  },
  {
   "cell_type": "code",
   "execution_count": 122,
   "metadata": {},
   "outputs": [],
   "source": [
    "# I am assuming the NaN's in this column are representitive of not having delinq.\n",
    "# before filling, the mean was roughly 35 for all columns so i have split the results around 35. \n",
    "def clean_up_2(x):\n",
    "    if x <0:\n",
    "        return 0\n",
    "    \n",
    "    elif x<35:\n",
    "        return 2\n",
    "    else:\n",
    "        return 1\n",
    "change_list = ['mths_since_last_delinq','mths_since_last_major_derog','mths_since_recent_revol_delinq','mths_since_recent_bc_dlq']\n",
    "\n",
    "for col in change_list:\n",
    "    df[col] = df[col].apply(lambda x: clean_up_2(x)).astype('category')"
   ]
  },
  {
   "cell_type": "code",
   "execution_count": null,
   "metadata": {},
   "outputs": [],
   "source": []
  },
  {
   "cell_type": "code",
   "execution_count": 123,
   "metadata": {},
   "outputs": [],
   "source": [
    "\n",
    "\n",
    "def clean_3(x):\n",
    "    if x is np.NaN:\n",
    "        return 0\n",
    "    else:\n",
    "        return 1\n",
    "\n",
    "\n",
    "cln_list = ['last_pymnt_d','next_pymnt_d']\n",
    "\n",
    "for col in cln_list:\n",
    "    df[col] = df[col].apply(lambda x: clean_3(x))"
   ]
  },
  {
   "cell_type": "code",
   "execution_count": 124,
   "metadata": {},
   "outputs": [],
   "source": [
    "df['recovery'] = np.where((df.recoveries != 0.00), 1, 0)"
   ]
  },
  {
   "cell_type": "code",
   "execution_count": 125,
   "metadata": {},
   "outputs": [],
   "source": [
    "#dropping some more useless lines\n",
    "df.drop(['issue_d','title','zip_code','earliest_cr_line','addr_state','funded_amnt'\n",
    "         'pymnt_plan','policy_code','collection_recovery_fee','recoveries'],inplace=True,axis=1)"
   ]
  },
  {
   "cell_type": "code",
   "execution_count": 127,
   "metadata": {},
   "outputs": [],
   "source": [
    "import re\n",
    "\n",
    "\n",
    "def sub(text):\n",
    "    text=str(text)\n",
    "    x=re.sub(r'%?','',text)\n",
    "    return x\n",
    "\n",
    "\n",
    "\n",
    "df['int_rate']= df['int_rate'].apply(lambda x: sub(x))\n",
    "\n",
    "df['int_rate']=df['int_rate'].astype('float')\n",
    "\n",
    "df['int_rate']=df['int_rate']/100\n",
    "\n",
    "df['revol_util']= df['revol_util'].apply(lambda x: sub(x))\n",
    "\n",
    "df['revol_util']=df['revol_util'].astype('float')\n"
   ]
  },
  {
   "cell_type": "code",
   "execution_count": 128,
   "metadata": {},
   "outputs": [
    {
     "data": {
      "text/plain": [
       "dti                  75\n",
       "revol_util           75\n",
       "il_util           13380\n",
       "all_util             13\n",
       "avg_cur_bal           2\n",
       "bc_open_to_buy     1143\n",
       "bc_util            1191\n",
       "dtype: int64"
      ]
     },
     "execution_count": 128,
     "metadata": {},
     "output_type": "execute_result"
    }
   ],
   "source": [
    "nulls = df.columns[df.isnull().any()]\n",
    "\n",
    "df[nulls].isnull().sum()\n"
   ]
  },
  {
   "cell_type": "code",
   "execution_count": 129,
   "metadata": {},
   "outputs": [
    {
     "data": {
      "text/plain": [
       "dti                  75\n",
       "revol_util           75\n",
       "il_util           13380\n",
       "all_util             13\n",
       "avg_cur_bal           2\n",
       "bc_open_to_buy     1143\n",
       "bc_util            1191\n",
       "dtype: int64"
      ]
     },
     "execution_count": 129,
     "metadata": {},
     "output_type": "execute_result"
    }
   ],
   "source": [
    "nulls = df.columns[df.isnull().any()]\n",
    "\n",
    "df[nulls].isnull().sum()\n",
    "\n"
   ]
  },
  {
   "cell_type": "code",
   "execution_count": 131,
   "metadata": {},
   "outputs": [],
   "source": [
    "# filling all values with 0 at the moment\n",
    "df[nulls]=df[nulls].fillna(df[nulls].mean())"
   ]
  },
  {
   "cell_type": "code",
   "execution_count": 132,
   "metadata": {},
   "outputs": [],
   "source": [
    "y = df['loan_status']\n",
    "\n",
    "X=df.drop('loan_status',axis=1)\n",
    "\n",
    "\n",
    "\n",
    "X=pd.get_dummies(X)\n",
    "\n"
   ]
  },
  {
   "cell_type": "code",
   "execution_count": 133,
   "metadata": {},
   "outputs": [
    {
     "data": {
      "text/plain": [
       "(105451, 156)"
      ]
     },
     "execution_count": 133,
     "metadata": {},
     "output_type": "execute_result"
    }
   ],
   "source": [
    "X.shape"
   ]
  },
  {
   "cell_type": "code",
   "execution_count": null,
   "metadata": {},
   "outputs": [],
   "source": []
  },
  {
   "cell_type": "code",
   "execution_count": 134,
   "metadata": {},
   "outputs": [],
   "source": [
    "from sklearn.model_selection import train_test_split, RandomizedSearchCV\n",
    "\n",
    "from sklearn.metrics import confusion_matrix,accuracy_score,classification_report,f1_score,recall_score,precision_score\n",
    "\n",
    "\n",
    "X_train,X_test,y_train,y_test = train_test_split(X,y,stratify=y,test_size=0.2,random_state=1)\n",
    "\n"
   ]
  },
  {
   "cell_type": "code",
   "execution_count": 135,
   "metadata": {},
   "outputs": [],
   "source": [
    "from imblearn.under_sampling import RandomUnderSampler\n",
    "from imblearn.over_sampling import RandomOverSampler\n"
   ]
  },
  {
   "cell_type": "code",
   "execution_count": 136,
   "metadata": {},
   "outputs": [],
   "source": [
    "X_train,X_val,y_train,y_val = train_test_split(X_train,y_train,stratify=y_train,test_size=0.2)\n"
   ]
  },
  {
   "cell_type": "code",
   "execution_count": 137,
   "metadata": {},
   "outputs": [],
   "source": [
    "rus = RandomUnderSampler()\n",
    "ros = RandomOverSampler()\n",
    "\n",
    "#sampling_strategy={'Current':2000,} \n",
    "#X_train,y_train=rus.fit_sample(X_train,y_train)\n",
    "X_train,y_train = ros.fit_sample(X_train,y_train)"
   ]
  },
  {
   "cell_type": "code",
   "execution_count": 138,
   "metadata": {},
   "outputs": [],
   "source": [
    "from keras.models import Sequential\n",
    "from keras.layers import Dense,Activation,Conv2D,Flatten,Dropout,MaxPool2D,BatchNormalization\n",
    "from keras.callbacks import ModelCheckpoint,EarlyStopping"
   ]
  },
  {
   "cell_type": "code",
   "execution_count": 139,
   "metadata": {},
   "outputs": [],
   "source": [
    "model = Sequential()\n",
    "\n",
    "model.add(Dense(1000,activation='relu',input_dim=156))\n",
    "model.add(BatchNormalization())\n",
    "model.add(Dropout(0.1))\n",
    "model.add(Dense(500,activation='relu'))\n",
    "model.add(Dense(2000,activation='relu'))\n",
    "model.add(BatchNormalization())\n",
    "model.add(Dense(200,activation='relu'))\n",
    "model.add(Dense(1000,activation='relu'))\n",
    "model.add(BatchNormalization())\n",
    "model.add(Dropout(0.1))\n",
    "model.add(Dense(1000,activation='relu'))\n",
    "model.add(Dense(2,activation='softmax'))"
   ]
  },
  {
   "cell_type": "code",
   "execution_count": 140,
   "metadata": {},
   "outputs": [],
   "source": [
    "from keras.optimizers import Adam"
   ]
  },
  {
   "cell_type": "code",
   "execution_count": 141,
   "metadata": {},
   "outputs": [],
   "source": [
    "BS = 64\n",
    "EPOCH=10"
   ]
  },
  {
   "cell_type": "code",
   "execution_count": 142,
   "metadata": {},
   "outputs": [],
   "source": [
    "adam=Adam()\n",
    "\n",
    "model.compile(loss='binary_crossentropy',metrics=['accuracy'],optimizer='adam')"
   ]
  },
  {
   "cell_type": "code",
   "execution_count": 143,
   "metadata": {},
   "outputs": [],
   "source": [
    "y_train=pd.get_dummies(y_train)"
   ]
  },
  {
   "cell_type": "code",
   "execution_count": 144,
   "metadata": {},
   "outputs": [],
   "source": [
    "y_val=pd.get_dummies(y_val)"
   ]
  },
  {
   "cell_type": "code",
   "execution_count": 145,
   "metadata": {},
   "outputs": [
    {
     "name": "stdout",
     "output_type": "stream",
     "text": [
      "Train on 132794 samples, validate on 16872 samples\n",
      "Epoch 1/10\n",
      " - 229s - loss: 0.6449 - accuracy: 0.6386 - val_loss: 0.5434 - val_accuracy: 0.6837\n",
      "\n",
      "Epoch 00001: val_accuracy improved from -inf to 0.68368, saving model to weights.01-0.68.hdf5\n",
      "Epoch 2/10\n",
      " - 201s - loss: 0.5623 - accuracy: 0.6984 - val_loss: 0.4427 - val_accuracy: 0.7972\n",
      "\n",
      "Epoch 00002: val_accuracy improved from 0.68368 to 0.79718, saving model to weights.02-0.80.hdf5\n",
      "Epoch 3/10\n",
      " - 200s - loss: 0.5203 - accuracy: 0.7284 - val_loss: 0.3964 - val_accuracy: 0.8192\n",
      "\n",
      "Epoch 00003: val_accuracy improved from 0.79718 to 0.81917, saving model to weights.03-0.82.hdf5\n",
      "Epoch 4/10\n",
      " - 202s - loss: 0.4711 - accuracy: 0.7647 - val_loss: 0.3280 - val_accuracy: 0.8306\n",
      "\n",
      "Epoch 00004: val_accuracy improved from 0.81917 to 0.83061, saving model to weights.04-0.83.hdf5\n",
      "Epoch 5/10\n",
      " - 203s - loss: 0.4125 - accuracy: 0.8052 - val_loss: 0.5143 - val_accuracy: 0.7524\n",
      "\n",
      "Epoch 00005: val_accuracy did not improve from 0.83061\n",
      "Epoch 6/10\n",
      " - 199s - loss: 0.3619 - accuracy: 0.8364 - val_loss: 0.2491 - val_accuracy: 0.9001\n",
      "\n",
      "Epoch 00006: val_accuracy improved from 0.83061 to 0.90007, saving model to weights.06-0.90.hdf5\n",
      "Epoch 7/10\n",
      " - 203s - loss: 0.3134 - accuracy: 0.8641 - val_loss: 0.4263 - val_accuracy: 0.8081\n",
      "\n",
      "Epoch 00007: val_accuracy did not improve from 0.90007\n",
      "Epoch 8/10\n",
      " - 205s - loss: 0.2707 - accuracy: 0.8876 - val_loss: 0.2903 - val_accuracy: 0.8789\n",
      "\n",
      "Epoch 00008: val_accuracy did not improve from 0.90007\n",
      "Epoch 9/10\n",
      " - 201s - loss: 0.2421 - accuracy: 0.9014 - val_loss: 0.3247 - val_accuracy: 0.8634\n",
      "\n",
      "Epoch 00009: val_accuracy did not improve from 0.90007\n",
      "Epoch 10/10\n",
      " - 204s - loss: 0.2172 - accuracy: 0.9135 - val_loss: 0.2595 - val_accuracy: 0.8976\n",
      "\n",
      "Epoch 00010: val_accuracy did not improve from 0.90007\n"
     ]
    },
    {
     "data": {
      "text/plain": [
       "<keras.callbacks.callbacks.History at 0x206004f0f88>"
      ]
     },
     "execution_count": 145,
     "metadata": {},
     "output_type": "execute_result"
    }
   ],
   "source": [
    "checkpoint=ModelCheckpoint('weights.{epoch:02d}-{val_accuracy:.2f}.hdf5',monitor='val_accuracy',\n",
    "                           verbose=1,save_best_only=True)\n",
    "\n",
    "early_stop=EarlyStopping(monitor='val_accuracy', min_delta=0, patience=4, verbose=0,\n",
    "                         mode='auto', baseline=None, restore_best_weights=False)\n",
    "\n",
    "      \n",
    "\n",
    "model.fit(X_train,y_train,verbose=2,epochs=EPOCH,batch_size=BS,validation_data=[X_val,y_val],\n",
    "          callbacks=[early_stop,checkpoint])"
   ]
  },
  {
   "cell_type": "code",
   "execution_count": 37,
   "metadata": {},
   "outputs": [],
   "source": [
    "import keras as K"
   ]
  },
  {
   "cell_type": "code",
   "execution_count": 43,
   "metadata": {},
   "outputs": [],
   "source": [
    "model = K.models.load_model('weights.20-0.97.hdf5')"
   ]
  },
  {
   "cell_type": "code",
   "execution_count": 44,
   "metadata": {},
   "outputs": [],
   "source": [
    "preds_train=model.predict(X_test)"
   ]
  },
  {
   "cell_type": "code",
   "execution_count": 45,
   "metadata": {},
   "outputs": [],
   "source": [
    "y_test=pd.get_dummies(y_test)"
   ]
  },
  {
   "cell_type": "code",
   "execution_count": 46,
   "metadata": {},
   "outputs": [
    {
     "data": {
      "text/plain": [
       "array([[   54,   287],\n",
       "       [ 1041, 19709]], dtype=int64)"
      ]
     },
     "execution_count": 46,
     "metadata": {},
     "output_type": "execute_result"
    }
   ],
   "source": [
    "\n",
    "\n",
    "confusion_matrix(y_test.values.argmax(axis=1),preds_train.argmax(axis=1))"
   ]
  },
  {
   "cell_type": "code",
   "execution_count": 99,
   "metadata": {},
   "outputs": [],
   "source": [
    "\n",
    "preds=model.predict_proba(X_test)"
   ]
  },
  {
   "cell_type": "code",
   "execution_count": 104,
   "metadata": {},
   "outputs": [],
   "source": [
    "def predict(array):\n",
    "    new_preds = np.zeros(len(array[:,1]))\n",
    "    for i in range(len(array[:,1])):\n",
    "        if array[i,1] >0.999:\n",
    "            new_preds[i] = 1\n",
    "        else:\n",
    "            new_preds[i] =0\n",
    "    return new_preds\n",
    "    \n"
   ]
  },
  {
   "cell_type": "code",
   "execution_count": 105,
   "metadata": {},
   "outputs": [],
   "source": [
    "new_pred = predict(preds)"
   ]
  },
  {
   "cell_type": "code",
   "execution_count": 106,
   "metadata": {},
   "outputs": [
    {
     "data": {
      "text/plain": [
       "array([[  244,    97],\n",
       "       [ 9433, 11317]], dtype=int64)"
      ]
     },
     "execution_count": 106,
     "metadata": {},
     "output_type": "execute_result"
    }
   ],
   "source": [
    "confusion_matrix(y_test.values.argmax(axis=1),new_pred)"
   ]
  },
  {
   "cell_type": "code",
   "execution_count": 108,
   "metadata": {},
   "outputs": [
    {
     "data": {
      "text/plain": [
       "array([0.71554252, 0.54539759])"
      ]
     },
     "execution_count": 108,
     "metadata": {},
     "output_type": "execute_result"
    }
   ],
   "source": [
    "recall_score(y_test.values.argmax(axis=1),new_pred,average=None)"
   ]
  }
 ],
 "metadata": {
  "kernelspec": {
   "display_name": "Python 3",
   "language": "python",
   "name": "python3"
  },
  "language_info": {
   "codemirror_mode": {
    "name": "ipython",
    "version": 3
   },
   "file_extension": ".py",
   "mimetype": "text/x-python",
   "name": "python",
   "nbconvert_exporter": "python",
   "pygments_lexer": "ipython3",
   "version": "3.7.6"
  }
 },
 "nbformat": 4,
 "nbformat_minor": 4
}
