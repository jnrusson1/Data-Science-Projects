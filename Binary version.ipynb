{
 "cells": [
  {
   "cell_type": "code",
   "execution_count": 36,
   "metadata": {},
   "outputs": [],
   "source": [
    "import pandas as pd\n",
    "import numpy as np\n",
    "import seaborn as sns\n",
    "import scipy.stats as stats\n",
    "import scipy\n",
    "import matplotlib.pyplot as plt\n",
    "%matplotlib inline"
   ]
  },
  {
   "cell_type": "code",
   "execution_count": 37,
   "metadata": {},
   "outputs": [],
   "source": [
    "df=pd.read_csv('LoanStats_2017Q2.csv')"
   ]
  },
  {
   "cell_type": "code",
   "execution_count": 38,
   "metadata": {},
   "outputs": [
    {
     "data": {
      "text/plain": [
       "Current               99850\n",
       "Fully Paid             3896\n",
       "In Grace Period         932\n",
       "Late (31-120 days)      436\n",
       "Late (16-30 days)       312\n",
       "Charged Off              25\n",
       "Name: loan_status, dtype: int64"
      ]
     },
     "execution_count": 38,
     "metadata": {},
     "output_type": "execute_result"
    }
   ],
   "source": [
    "x = df['loan_status']\n",
    "x.value_counts()"
   ]
  },
  {
   "cell_type": "markdown",
   "metadata": {},
   "source": [
    "#filling certain columns that i think are NA due to not having a result. will sort this further down\n",
    "df[['mths_since_recent_bc_dlq','mths_since_last_major_derog','mths_since_recent_revol_delinq','mths_since_last_delinq']] = df[['mths_since_recent_bc_dlq','mths_since_last_major_derog','mths_since_recent_revol_delinq','mths_since_last_delinq']].fillna(-1)\n"
   ]
  },
  {
   "cell_type": "code",
   "execution_count": 39,
   "metadata": {},
   "outputs": [],
   "source": [
    "def binner(columnName):\n",
    "    # Get boolean values indicating null\n",
    "    mths_null = np.isnan(columnName)\n",
    "\n",
    "    # Negate the booleans with  ~ and use them to select all the non-null values, leaving null values out\n",
    "    valid = columnName[~mths_null]\n",
    "    \n",
    "    \n",
    "    mean = valid.mean()\n",
    "\n",
    "    # Fill the NaNs with -1\n",
    "    columnName = columnName.fillna(-1)\n",
    "    \n",
    "    columnName = columnName.apply(lambda x: clean_up_2(x, mean))\n",
    "\n",
    "            \n",
    "    # Use np.digitize to bin the values, with NaNs in bin 0, others in 1...5\n",
    "    return columnName"
   ]
  },
  {
   "cell_type": "code",
   "execution_count": 40,
   "metadata": {},
   "outputs": [],
   "source": [
    "# I am assuming the NaN's in this column are representitive of not having delinq.\n",
    "# before filling, the mean was roughly 35 for all columns so i have split the results around 35. \n",
    "def clean_up_2(x,mean):\n",
    "    \n",
    "   \n",
    "    \n",
    "    if x <0:\n",
    "        return 0\n",
    "    \n",
    "    elif x<mean:\n",
    "        return 2\n",
    "    else:\n",
    "        return 1\n",
    "    "
   ]
  },
  {
   "cell_type": "code",
   "execution_count": 41,
   "metadata": {},
   "outputs": [],
   "source": [
    "\n",
    "change_list = ['mths_since_last_delinq','mths_since_last_major_derog','mths_since_recent_revol_delinq','mths_since_recent_bc_dlq']\n",
    "\n",
    "for col in change_list:\n",
    "    df[col] = binner(df[col])"
   ]
  },
  {
   "cell_type": "code",
   "execution_count": null,
   "metadata": {},
   "outputs": [],
   "source": []
  },
  {
   "cell_type": "code",
   "execution_count": 42,
   "metadata": {
    "scrolled": true
   },
   "outputs": [],
   "source": [
    "risk =['Late (16-30 days)','Late (31-120 days)','Charged Off','In Grace Period']\n",
    "\n",
    "no_risk =['Current','Fully Paid']\n",
    "\n",
    "def binary_maker(x):\n",
    "    if x in risk:\n",
    "        return 0\n",
    "    else:\n",
    "        return 1\n",
    "    \n",
    "df['loan_status']=df['loan_status'].apply(lambda x:binary_maker(x))    "
   ]
  },
  {
   "cell_type": "code",
   "execution_count": 43,
   "metadata": {},
   "outputs": [],
   "source": [
    "#setting max view and looking at dataframe\n",
    "pd.set_option('display.max_columns', None)\n"
   ]
  },
  {
   "cell_type": "code",
   "execution_count": 44,
   "metadata": {},
   "outputs": [],
   "source": [
    "df['annual_inc_joint'].fillna(0,inplace=True)\n",
    "\n",
    "df['total_inc']=df['annual_inc_joint']+df['annual_inc']"
   ]
  },
  {
   "cell_type": "code",
   "execution_count": 45,
   "metadata": {},
   "outputs": [
    {
     "data": {
      "text/html": [
       "<div>\n",
       "<style scoped>\n",
       "    .dataframe tbody tr th:only-of-type {\n",
       "        vertical-align: middle;\n",
       "    }\n",
       "\n",
       "    .dataframe tbody tr th {\n",
       "        vertical-align: top;\n",
       "    }\n",
       "\n",
       "    .dataframe thead th {\n",
       "        text-align: right;\n",
       "    }\n",
       "</style>\n",
       "<table border=\"1\" class=\"dataframe\">\n",
       "  <thead>\n",
       "    <tr style=\"text-align: right;\">\n",
       "      <th></th>\n",
       "      <th>id</th>\n",
       "      <th>member_id</th>\n",
       "      <th>url</th>\n",
       "      <th>desc</th>\n",
       "      <th>mths_since_last_record</th>\n",
       "      <th>dti_joint</th>\n",
       "      <th>verification_status_joint</th>\n",
       "      <th>revol_bal_joint</th>\n",
       "      <th>sec_app_earliest_cr_line</th>\n",
       "      <th>sec_app_inq_last_6mths</th>\n",
       "      <th>sec_app_mort_acc</th>\n",
       "      <th>sec_app_open_acc</th>\n",
       "      <th>sec_app_revol_util</th>\n",
       "      <th>sec_app_open_il_6m</th>\n",
       "      <th>sec_app_num_rev_accts</th>\n",
       "      <th>sec_app_chargeoff_within_12_mths</th>\n",
       "      <th>sec_app_collections_12_mths_ex_med</th>\n",
       "      <th>sec_app_mths_since_last_major_derog</th>\n",
       "      <th>hardship_type</th>\n",
       "      <th>hardship_reason</th>\n",
       "      <th>hardship_status</th>\n",
       "      <th>deferral_term</th>\n",
       "      <th>hardship_amount</th>\n",
       "      <th>hardship_start_date</th>\n",
       "      <th>hardship_end_date</th>\n",
       "      <th>payment_plan_start_date</th>\n",
       "      <th>hardship_length</th>\n",
       "      <th>hardship_dpd</th>\n",
       "      <th>hardship_loan_status</th>\n",
       "      <th>orig_projected_additional_accrued_interest</th>\n",
       "      <th>hardship_payoff_balance_amount</th>\n",
       "      <th>hardship_last_payment_amount</th>\n",
       "    </tr>\n",
       "  </thead>\n",
       "  <tbody>\n",
       "    <tr>\n",
       "      <th>0</th>\n",
       "      <td>NaN</td>\n",
       "      <td>NaN</td>\n",
       "      <td>NaN</td>\n",
       "      <td>NaN</td>\n",
       "      <td>NaN</td>\n",
       "      <td>NaN</td>\n",
       "      <td>NaN</td>\n",
       "      <td>NaN</td>\n",
       "      <td>NaN</td>\n",
       "      <td>NaN</td>\n",
       "      <td>NaN</td>\n",
       "      <td>NaN</td>\n",
       "      <td>NaN</td>\n",
       "      <td>NaN</td>\n",
       "      <td>NaN</td>\n",
       "      <td>NaN</td>\n",
       "      <td>NaN</td>\n",
       "      <td>NaN</td>\n",
       "      <td>NaN</td>\n",
       "      <td>NaN</td>\n",
       "      <td>NaN</td>\n",
       "      <td>NaN</td>\n",
       "      <td>NaN</td>\n",
       "      <td>NaN</td>\n",
       "      <td>NaN</td>\n",
       "      <td>NaN</td>\n",
       "      <td>NaN</td>\n",
       "      <td>NaN</td>\n",
       "      <td>NaN</td>\n",
       "      <td>NaN</td>\n",
       "      <td>NaN</td>\n",
       "      <td>NaN</td>\n",
       "    </tr>\n",
       "    <tr>\n",
       "      <th>1</th>\n",
       "      <td>NaN</td>\n",
       "      <td>NaN</td>\n",
       "      <td>NaN</td>\n",
       "      <td>NaN</td>\n",
       "      <td>NaN</td>\n",
       "      <td>NaN</td>\n",
       "      <td>NaN</td>\n",
       "      <td>NaN</td>\n",
       "      <td>NaN</td>\n",
       "      <td>NaN</td>\n",
       "      <td>NaN</td>\n",
       "      <td>NaN</td>\n",
       "      <td>NaN</td>\n",
       "      <td>NaN</td>\n",
       "      <td>NaN</td>\n",
       "      <td>NaN</td>\n",
       "      <td>NaN</td>\n",
       "      <td>NaN</td>\n",
       "      <td>NaN</td>\n",
       "      <td>NaN</td>\n",
       "      <td>NaN</td>\n",
       "      <td>NaN</td>\n",
       "      <td>NaN</td>\n",
       "      <td>NaN</td>\n",
       "      <td>NaN</td>\n",
       "      <td>NaN</td>\n",
       "      <td>NaN</td>\n",
       "      <td>NaN</td>\n",
       "      <td>NaN</td>\n",
       "      <td>NaN</td>\n",
       "      <td>NaN</td>\n",
       "      <td>NaN</td>\n",
       "    </tr>\n",
       "    <tr>\n",
       "      <th>2</th>\n",
       "      <td>NaN</td>\n",
       "      <td>NaN</td>\n",
       "      <td>NaN</td>\n",
       "      <td>NaN</td>\n",
       "      <td>69.0</td>\n",
       "      <td>NaN</td>\n",
       "      <td>NaN</td>\n",
       "      <td>NaN</td>\n",
       "      <td>NaN</td>\n",
       "      <td>NaN</td>\n",
       "      <td>NaN</td>\n",
       "      <td>NaN</td>\n",
       "      <td>NaN</td>\n",
       "      <td>NaN</td>\n",
       "      <td>NaN</td>\n",
       "      <td>NaN</td>\n",
       "      <td>NaN</td>\n",
       "      <td>NaN</td>\n",
       "      <td>NaN</td>\n",
       "      <td>NaN</td>\n",
       "      <td>NaN</td>\n",
       "      <td>NaN</td>\n",
       "      <td>NaN</td>\n",
       "      <td>NaN</td>\n",
       "      <td>NaN</td>\n",
       "      <td>NaN</td>\n",
       "      <td>NaN</td>\n",
       "      <td>NaN</td>\n",
       "      <td>NaN</td>\n",
       "      <td>NaN</td>\n",
       "      <td>NaN</td>\n",
       "      <td>NaN</td>\n",
       "    </tr>\n",
       "    <tr>\n",
       "      <th>3</th>\n",
       "      <td>NaN</td>\n",
       "      <td>NaN</td>\n",
       "      <td>NaN</td>\n",
       "      <td>NaN</td>\n",
       "      <td>NaN</td>\n",
       "      <td>NaN</td>\n",
       "      <td>NaN</td>\n",
       "      <td>NaN</td>\n",
       "      <td>NaN</td>\n",
       "      <td>NaN</td>\n",
       "      <td>NaN</td>\n",
       "      <td>NaN</td>\n",
       "      <td>NaN</td>\n",
       "      <td>NaN</td>\n",
       "      <td>NaN</td>\n",
       "      <td>NaN</td>\n",
       "      <td>NaN</td>\n",
       "      <td>NaN</td>\n",
       "      <td>NaN</td>\n",
       "      <td>NaN</td>\n",
       "      <td>NaN</td>\n",
       "      <td>NaN</td>\n",
       "      <td>NaN</td>\n",
       "      <td>NaN</td>\n",
       "      <td>NaN</td>\n",
       "      <td>NaN</td>\n",
       "      <td>NaN</td>\n",
       "      <td>NaN</td>\n",
       "      <td>NaN</td>\n",
       "      <td>NaN</td>\n",
       "      <td>NaN</td>\n",
       "      <td>NaN</td>\n",
       "    </tr>\n",
       "    <tr>\n",
       "      <th>4</th>\n",
       "      <td>NaN</td>\n",
       "      <td>NaN</td>\n",
       "      <td>NaN</td>\n",
       "      <td>NaN</td>\n",
       "      <td>NaN</td>\n",
       "      <td>NaN</td>\n",
       "      <td>NaN</td>\n",
       "      <td>NaN</td>\n",
       "      <td>NaN</td>\n",
       "      <td>NaN</td>\n",
       "      <td>NaN</td>\n",
       "      <td>NaN</td>\n",
       "      <td>NaN</td>\n",
       "      <td>NaN</td>\n",
       "      <td>NaN</td>\n",
       "      <td>NaN</td>\n",
       "      <td>NaN</td>\n",
       "      <td>NaN</td>\n",
       "      <td>NaN</td>\n",
       "      <td>NaN</td>\n",
       "      <td>NaN</td>\n",
       "      <td>NaN</td>\n",
       "      <td>NaN</td>\n",
       "      <td>NaN</td>\n",
       "      <td>NaN</td>\n",
       "      <td>NaN</td>\n",
       "      <td>NaN</td>\n",
       "      <td>NaN</td>\n",
       "      <td>NaN</td>\n",
       "      <td>NaN</td>\n",
       "      <td>NaN</td>\n",
       "      <td>NaN</td>\n",
       "    </tr>\n",
       "  </tbody>\n",
       "</table>\n",
       "</div>"
      ],
      "text/plain": [
       "   id  member_id  url  desc  mths_since_last_record  dti_joint  \\\n",
       "0 NaN        NaN  NaN   NaN                     NaN        NaN   \n",
       "1 NaN        NaN  NaN   NaN                     NaN        NaN   \n",
       "2 NaN        NaN  NaN   NaN                    69.0        NaN   \n",
       "3 NaN        NaN  NaN   NaN                     NaN        NaN   \n",
       "4 NaN        NaN  NaN   NaN                     NaN        NaN   \n",
       "\n",
       "  verification_status_joint  revol_bal_joint sec_app_earliest_cr_line  \\\n",
       "0                       NaN              NaN                      NaN   \n",
       "1                       NaN              NaN                      NaN   \n",
       "2                       NaN              NaN                      NaN   \n",
       "3                       NaN              NaN                      NaN   \n",
       "4                       NaN              NaN                      NaN   \n",
       "\n",
       "   sec_app_inq_last_6mths  sec_app_mort_acc  sec_app_open_acc  \\\n",
       "0                     NaN               NaN               NaN   \n",
       "1                     NaN               NaN               NaN   \n",
       "2                     NaN               NaN               NaN   \n",
       "3                     NaN               NaN               NaN   \n",
       "4                     NaN               NaN               NaN   \n",
       "\n",
       "   sec_app_revol_util  sec_app_open_il_6m  sec_app_num_rev_accts  \\\n",
       "0                 NaN                 NaN                    NaN   \n",
       "1                 NaN                 NaN                    NaN   \n",
       "2                 NaN                 NaN                    NaN   \n",
       "3                 NaN                 NaN                    NaN   \n",
       "4                 NaN                 NaN                    NaN   \n",
       "\n",
       "   sec_app_chargeoff_within_12_mths  sec_app_collections_12_mths_ex_med  \\\n",
       "0                               NaN                                 NaN   \n",
       "1                               NaN                                 NaN   \n",
       "2                               NaN                                 NaN   \n",
       "3                               NaN                                 NaN   \n",
       "4                               NaN                                 NaN   \n",
       "\n",
       "   sec_app_mths_since_last_major_derog  hardship_type  hardship_reason  \\\n",
       "0                                  NaN            NaN              NaN   \n",
       "1                                  NaN            NaN              NaN   \n",
       "2                                  NaN            NaN              NaN   \n",
       "3                                  NaN            NaN              NaN   \n",
       "4                                  NaN            NaN              NaN   \n",
       "\n",
       "   hardship_status  deferral_term  hardship_amount  hardship_start_date  \\\n",
       "0              NaN            NaN              NaN                  NaN   \n",
       "1              NaN            NaN              NaN                  NaN   \n",
       "2              NaN            NaN              NaN                  NaN   \n",
       "3              NaN            NaN              NaN                  NaN   \n",
       "4              NaN            NaN              NaN                  NaN   \n",
       "\n",
       "   hardship_end_date  payment_plan_start_date  hardship_length  hardship_dpd  \\\n",
       "0                NaN                      NaN              NaN           NaN   \n",
       "1                NaN                      NaN              NaN           NaN   \n",
       "2                NaN                      NaN              NaN           NaN   \n",
       "3                NaN                      NaN              NaN           NaN   \n",
       "4                NaN                      NaN              NaN           NaN   \n",
       "\n",
       "   hardship_loan_status  orig_projected_additional_accrued_interest  \\\n",
       "0                   NaN                                         NaN   \n",
       "1                   NaN                                         NaN   \n",
       "2                   NaN                                         NaN   \n",
       "3                   NaN                                         NaN   \n",
       "4                   NaN                                         NaN   \n",
       "\n",
       "   hardship_payoff_balance_amount  hardship_last_payment_amount  \n",
       "0                             NaN                           NaN  \n",
       "1                             NaN                           NaN  \n",
       "2                             NaN                           NaN  \n",
       "3                             NaN                           NaN  \n",
       "4                             NaN                           NaN  "
      ]
     },
     "execution_count": 45,
     "metadata": {},
     "output_type": "execute_result"
    }
   ],
   "source": [
    "#creating a mask to find percents nan over 60 percent\n",
    "mask = df.columns[((df.isnull().sum()/105451)*100>=60)]\n",
    "df[mask].head()"
   ]
  },
  {
   "cell_type": "code",
   "execution_count": 46,
   "metadata": {},
   "outputs": [],
   "source": [
    "#dropping the NaN columns over 60 percent\n",
    "df.drop(mask,axis=1,inplace=True)"
   ]
  },
  {
   "cell_type": "code",
   "execution_count": 47,
   "metadata": {},
   "outputs": [
    {
     "data": {
      "text/html": [
       "<div>\n",
       "<style scoped>\n",
       "    .dataframe tbody tr th:only-of-type {\n",
       "        vertical-align: middle;\n",
       "    }\n",
       "\n",
       "    .dataframe tbody tr th {\n",
       "        vertical-align: top;\n",
       "    }\n",
       "\n",
       "    .dataframe thead th {\n",
       "        text-align: right;\n",
       "    }\n",
       "</style>\n",
       "<table border=\"1\" class=\"dataframe\">\n",
       "  <thead>\n",
       "    <tr style=\"text-align: right;\">\n",
       "      <th></th>\n",
       "      <th>emp_title</th>\n",
       "      <th>emp_length</th>\n",
       "      <th>dti</th>\n",
       "      <th>revol_util</th>\n",
       "      <th>last_pymnt_d</th>\n",
       "      <th>next_pymnt_d</th>\n",
       "      <th>last_credit_pull_d</th>\n",
       "      <th>mths_since_rcnt_il</th>\n",
       "      <th>il_util</th>\n",
       "      <th>all_util</th>\n",
       "      <th>avg_cur_bal</th>\n",
       "      <th>bc_open_to_buy</th>\n",
       "      <th>bc_util</th>\n",
       "      <th>mo_sin_old_il_acct</th>\n",
       "      <th>mths_since_recent_bc</th>\n",
       "      <th>mths_since_recent_inq</th>\n",
       "      <th>num_tl_120dpd_2m</th>\n",
       "      <th>percent_bc_gt_75</th>\n",
       "    </tr>\n",
       "  </thead>\n",
       "  <tbody>\n",
       "    <tr>\n",
       "      <th>0</th>\n",
       "      <td>teacher</td>\n",
       "      <td>10.0</td>\n",
       "      <td>25.61</td>\n",
       "      <td>105.80%</td>\n",
       "      <td>Aug-17</td>\n",
       "      <td>Sep-17</td>\n",
       "      <td>Aug-17</td>\n",
       "      <td>26.0</td>\n",
       "      <td>69.0</td>\n",
       "      <td>94.0</td>\n",
       "      <td>26051.0</td>\n",
       "      <td>94.0</td>\n",
       "      <td>96.1</td>\n",
       "      <td>26.0</td>\n",
       "      <td>2.0</td>\n",
       "      <td>8.0</td>\n",
       "      <td>0.0</td>\n",
       "      <td>100.0</td>\n",
       "    </tr>\n",
       "    <tr>\n",
       "      <th>1</th>\n",
       "      <td>Registered Nurse</td>\n",
       "      <td>9.0</td>\n",
       "      <td>31.58</td>\n",
       "      <td>86.70%</td>\n",
       "      <td>Aug-17</td>\n",
       "      <td>Sep-17</td>\n",
       "      <td>Aug-17</td>\n",
       "      <td>13.0</td>\n",
       "      <td>57.0</td>\n",
       "      <td>71.0</td>\n",
       "      <td>5855.0</td>\n",
       "      <td>1421.0</td>\n",
       "      <td>94.8</td>\n",
       "      <td>118.0</td>\n",
       "      <td>21.0</td>\n",
       "      <td>13.0</td>\n",
       "      <td>0.0</td>\n",
       "      <td>100.0</td>\n",
       "    </tr>\n",
       "    <tr>\n",
       "      <th>2</th>\n",
       "      <td>Dealer</td>\n",
       "      <td>7.0</td>\n",
       "      <td>12.19</td>\n",
       "      <td>12.40%</td>\n",
       "      <td>Aug-17</td>\n",
       "      <td>Sep-17</td>\n",
       "      <td>Aug-17</td>\n",
       "      <td>26.0</td>\n",
       "      <td>99.0</td>\n",
       "      <td>46.0</td>\n",
       "      <td>5862.0</td>\n",
       "      <td>48443.0</td>\n",
       "      <td>12.4</td>\n",
       "      <td>153.0</td>\n",
       "      <td>33.0</td>\n",
       "      <td>22.0</td>\n",
       "      <td>0.0</td>\n",
       "      <td>60.0</td>\n",
       "    </tr>\n",
       "    <tr>\n",
       "      <th>3</th>\n",
       "      <td>QA Manager</td>\n",
       "      <td>1.0</td>\n",
       "      <td>31.39</td>\n",
       "      <td>98%</td>\n",
       "      <td>Aug-17</td>\n",
       "      <td>Sep-17</td>\n",
       "      <td>Aug-17</td>\n",
       "      <td>13.0</td>\n",
       "      <td>51.0</td>\n",
       "      <td>98.0</td>\n",
       "      <td>112860.0</td>\n",
       "      <td>10514.0</td>\n",
       "      <td>100.0</td>\n",
       "      <td>46.0</td>\n",
       "      <td>8.0</td>\n",
       "      <td>0.0</td>\n",
       "      <td>NaN</td>\n",
       "      <td>100.0</td>\n",
       "    </tr>\n",
       "    <tr>\n",
       "      <th>4</th>\n",
       "      <td>Physician Assistant</td>\n",
       "      <td>0.0</td>\n",
       "      <td>18.34</td>\n",
       "      <td>48.60%</td>\n",
       "      <td>Aug-17</td>\n",
       "      <td>Sep-17</td>\n",
       "      <td>Aug-17</td>\n",
       "      <td>10.0</td>\n",
       "      <td>58.0</td>\n",
       "      <td>56.0</td>\n",
       "      <td>21193.0</td>\n",
       "      <td>9527.0</td>\n",
       "      <td>49.6</td>\n",
       "      <td>132.0</td>\n",
       "      <td>67.0</td>\n",
       "      <td>3.0</td>\n",
       "      <td>0.0</td>\n",
       "      <td>28.6</td>\n",
       "    </tr>\n",
       "  </tbody>\n",
       "</table>\n",
       "</div>"
      ],
      "text/plain": [
       "             emp_title  emp_length    dti revol_util last_pymnt_d  \\\n",
       "0              teacher        10.0  25.61    105.80%       Aug-17   \n",
       "1     Registered Nurse         9.0  31.58     86.70%       Aug-17   \n",
       "2               Dealer         7.0  12.19     12.40%       Aug-17   \n",
       "3           QA Manager         1.0  31.39        98%       Aug-17   \n",
       "4  Physician Assistant         0.0  18.34     48.60%       Aug-17   \n",
       "\n",
       "  next_pymnt_d last_credit_pull_d  mths_since_rcnt_il  il_util  all_util  \\\n",
       "0       Sep-17             Aug-17                26.0     69.0      94.0   \n",
       "1       Sep-17             Aug-17                13.0     57.0      71.0   \n",
       "2       Sep-17             Aug-17                26.0     99.0      46.0   \n",
       "3       Sep-17             Aug-17                13.0     51.0      98.0   \n",
       "4       Sep-17             Aug-17                10.0     58.0      56.0   \n",
       "\n",
       "   avg_cur_bal  bc_open_to_buy  bc_util  mo_sin_old_il_acct  \\\n",
       "0      26051.0            94.0     96.1                26.0   \n",
       "1       5855.0          1421.0     94.8               118.0   \n",
       "2       5862.0         48443.0     12.4               153.0   \n",
       "3     112860.0         10514.0    100.0                46.0   \n",
       "4      21193.0          9527.0     49.6               132.0   \n",
       "\n",
       "   mths_since_recent_bc  mths_since_recent_inq  num_tl_120dpd_2m  \\\n",
       "0                   2.0                    8.0               0.0   \n",
       "1                  21.0                   13.0               0.0   \n",
       "2                  33.0                   22.0               0.0   \n",
       "3                   8.0                    0.0               NaN   \n",
       "4                  67.0                    3.0               0.0   \n",
       "\n",
       "   percent_bc_gt_75  \n",
       "0             100.0  \n",
       "1             100.0  \n",
       "2              60.0  \n",
       "3             100.0  \n",
       "4              28.6  "
      ]
     },
     "execution_count": 47,
     "metadata": {},
     "output_type": "execute_result"
    }
   ],
   "source": [
    "nulls = df.columns[df.isnull().any()]\n",
    "\n",
    "df[nulls].head(5)"
   ]
  },
  {
   "cell_type": "code",
   "execution_count": 48,
   "metadata": {},
   "outputs": [],
   "source": [
    "#these columns represent too much work or not enough information. Emp title would be very useful but would take a long time to process.\n",
    "#may come back for this one. \n",
    "df.drop(['emp_title','out_prncp_inv', 'total_pymnt_inv','last_pymnt_amnt','last_credit_pull_d','annual_inc_joint'],inplace=True,axis=1)"
   ]
  },
  {
   "cell_type": "code",
   "execution_count": 49,
   "metadata": {},
   "outputs": [],
   "source": [
    "#I'm assuming that for all people who do not have an employee length that they are unemployed.\n",
    "df['emp_length'].fillna(value=-1,inplace=True)\n",
    "\n",
    "\n",
    "# i am sorting by arbitrary employment lengths\n",
    "def clean_up(x):\n",
    "    if x < 0:\n",
    "        return 0\n",
    "    elif x <=1:\n",
    "        return 1\n",
    "    elif x<=5:\n",
    "        return 2\n",
    "    else:\n",
    "        return 3\n",
    "    \n",
    "# this function returns 0 for unemployed, 1 for 0-1 years 2 for 1-5 and 5+ years employment.\n",
    "\n",
    "df['emp_length'] = df['emp_length'].apply(lambda x: clean_up(x)).astype('category')\n"
   ]
  },
  {
   "cell_type": "code",
   "execution_count": null,
   "metadata": {},
   "outputs": [],
   "source": []
  },
  {
   "cell_type": "code",
   "execution_count": 50,
   "metadata": {},
   "outputs": [],
   "source": [
    "df['recovery'] = np.where((df.recoveries != 0.00), 1, 0)"
   ]
  },
  {
   "cell_type": "code",
   "execution_count": 51,
   "metadata": {},
   "outputs": [],
   "source": [
    "#dropping some more useless lines\n",
    "df.drop(['issue_d','title','zip_code','earliest_cr_line','addr_state','funded_amnt',\n",
    "         'pymnt_plan','policy_code','collection_recovery_fee','recoveries'],inplace=True,axis=1)"
   ]
  },
  {
   "cell_type": "code",
   "execution_count": 52,
   "metadata": {},
   "outputs": [],
   "source": [
    "\n",
    "\n",
    "#\n",
    "cln_list = ['last_pymnt_d','next_pymnt_d']\n",
    "\n",
    "\n",
    "df[cln_list]=df[cln_list].fillna('None')"
   ]
  },
  {
   "cell_type": "code",
   "execution_count": null,
   "metadata": {},
   "outputs": [],
   "source": []
  },
  {
   "cell_type": "code",
   "execution_count": 53,
   "metadata": {},
   "outputs": [],
   "source": [
    "import re\n",
    "\n",
    "\n",
    "def sub(text):\n",
    "    text=str(text)\n",
    "    x=re.sub(r'%?','',text)\n",
    "    return x\n",
    "\n",
    "\n",
    "\n",
    "df['int_rate']= df['int_rate'].apply(lambda x: sub(x))\n",
    "\n",
    "df['int_rate']=df['int_rate'].astype('float')\n",
    "\n",
    "df['int_rate']=df['int_rate']\n",
    "\n",
    "df['revol_util']= df['revol_util'].apply(lambda x: sub(x))\n",
    "\n",
    "df['revol_util']=df['revol_util'].astype('float')\n"
   ]
  },
  {
   "cell_type": "code",
   "execution_count": 54,
   "metadata": {},
   "outputs": [],
   "source": [
    "nulls = df.columns[df.isnull().any()]\n",
    "\n"
   ]
  },
  {
   "cell_type": "code",
   "execution_count": 55,
   "metadata": {},
   "outputs": [],
   "source": [
    "# filling all values with 0 at the moment\n",
    "df[nulls]=df[nulls].fillna(df[nulls].mean())"
   ]
  },
  {
   "cell_type": "code",
   "execution_count": 56,
   "metadata": {},
   "outputs": [],
   "source": [
    "y = df['loan_status']\n",
    "X=df.drop('loan_status',axis=1)\n",
    "\n",
    "\n",
    "\n",
    "X=pd.get_dummies(X)\n",
    "\n"
   ]
  },
  {
   "cell_type": "code",
   "execution_count": 57,
   "metadata": {},
   "outputs": [
    {
     "data": {
      "text/plain": [
       "(105451, 162)"
      ]
     },
     "execution_count": 57,
     "metadata": {},
     "output_type": "execute_result"
    }
   ],
   "source": [
    "X.shape"
   ]
  },
  {
   "cell_type": "code",
   "execution_count": null,
   "metadata": {},
   "outputs": [],
   "source": []
  },
  {
   "cell_type": "code",
   "execution_count": 58,
   "metadata": {},
   "outputs": [],
   "source": [
    "from sklearn.model_selection import train_test_split, RandomizedSearchCV\n",
    "\n",
    "from sklearn.metrics import confusion_matrix,accuracy_score,roc_auc_score,roc_curve,classification_report,f1_score,recall_score,precision_score\n",
    "\n",
    "\n",
    "X_train,X_test,y_train,y_test = train_test_split(X,y,stratify=y,test_size=0.3,random_state=1)"
   ]
  },
  {
   "cell_type": "code",
   "execution_count": 59,
   "metadata": {},
   "outputs": [
    {
     "name": "stderr",
     "output_type": "stream",
     "text": [
      "Using TensorFlow backend.\n",
      "C:\\Users\\JimGill\\anaconda3\\lib\\site-packages\\tensorflow\\python\\framework\\dtypes.py:516: FutureWarning: Passing (type, 1) or '1type' as a synonym of type is deprecated; in a future version of numpy, it will be understood as (type, (1,)) / '(1,)type'.\n",
      "  _np_qint8 = np.dtype([(\"qint8\", np.int8, 1)])\n",
      "C:\\Users\\JimGill\\anaconda3\\lib\\site-packages\\tensorflow\\python\\framework\\dtypes.py:517: FutureWarning: Passing (type, 1) or '1type' as a synonym of type is deprecated; in a future version of numpy, it will be understood as (type, (1,)) / '(1,)type'.\n",
      "  _np_quint8 = np.dtype([(\"quint8\", np.uint8, 1)])\n",
      "C:\\Users\\JimGill\\anaconda3\\lib\\site-packages\\tensorflow\\python\\framework\\dtypes.py:518: FutureWarning: Passing (type, 1) or '1type' as a synonym of type is deprecated; in a future version of numpy, it will be understood as (type, (1,)) / '(1,)type'.\n",
      "  _np_qint16 = np.dtype([(\"qint16\", np.int16, 1)])\n",
      "C:\\Users\\JimGill\\anaconda3\\lib\\site-packages\\tensorflow\\python\\framework\\dtypes.py:519: FutureWarning: Passing (type, 1) or '1type' as a synonym of type is deprecated; in a future version of numpy, it will be understood as (type, (1,)) / '(1,)type'.\n",
      "  _np_quint16 = np.dtype([(\"quint16\", np.uint16, 1)])\n",
      "C:\\Users\\JimGill\\anaconda3\\lib\\site-packages\\tensorflow\\python\\framework\\dtypes.py:520: FutureWarning: Passing (type, 1) or '1type' as a synonym of type is deprecated; in a future version of numpy, it will be understood as (type, (1,)) / '(1,)type'.\n",
      "  _np_qint32 = np.dtype([(\"qint32\", np.int32, 1)])\n",
      "C:\\Users\\JimGill\\anaconda3\\lib\\site-packages\\tensorflow\\python\\framework\\dtypes.py:525: FutureWarning: Passing (type, 1) or '1type' as a synonym of type is deprecated; in a future version of numpy, it will be understood as (type, (1,)) / '(1,)type'.\n",
      "  np_resource = np.dtype([(\"resource\", np.ubyte, 1)])\n",
      "C:\\Users\\JimGill\\anaconda3\\lib\\site-packages\\tensorboard\\compat\\tensorflow_stub\\dtypes.py:541: FutureWarning: Passing (type, 1) or '1type' as a synonym of type is deprecated; in a future version of numpy, it will be understood as (type, (1,)) / '(1,)type'.\n",
      "  _np_qint8 = np.dtype([(\"qint8\", np.int8, 1)])\n",
      "C:\\Users\\JimGill\\anaconda3\\lib\\site-packages\\tensorboard\\compat\\tensorflow_stub\\dtypes.py:542: FutureWarning: Passing (type, 1) or '1type' as a synonym of type is deprecated; in a future version of numpy, it will be understood as (type, (1,)) / '(1,)type'.\n",
      "  _np_quint8 = np.dtype([(\"quint8\", np.uint8, 1)])\n",
      "C:\\Users\\JimGill\\anaconda3\\lib\\site-packages\\tensorboard\\compat\\tensorflow_stub\\dtypes.py:543: FutureWarning: Passing (type, 1) or '1type' as a synonym of type is deprecated; in a future version of numpy, it will be understood as (type, (1,)) / '(1,)type'.\n",
      "  _np_qint16 = np.dtype([(\"qint16\", np.int16, 1)])\n",
      "C:\\Users\\JimGill\\anaconda3\\lib\\site-packages\\tensorboard\\compat\\tensorflow_stub\\dtypes.py:544: FutureWarning: Passing (type, 1) or '1type' as a synonym of type is deprecated; in a future version of numpy, it will be understood as (type, (1,)) / '(1,)type'.\n",
      "  _np_quint16 = np.dtype([(\"quint16\", np.uint16, 1)])\n",
      "C:\\Users\\JimGill\\anaconda3\\lib\\site-packages\\tensorboard\\compat\\tensorflow_stub\\dtypes.py:545: FutureWarning: Passing (type, 1) or '1type' as a synonym of type is deprecated; in a future version of numpy, it will be understood as (type, (1,)) / '(1,)type'.\n",
      "  _np_qint32 = np.dtype([(\"qint32\", np.int32, 1)])\n",
      "C:\\Users\\JimGill\\anaconda3\\lib\\site-packages\\tensorboard\\compat\\tensorflow_stub\\dtypes.py:550: FutureWarning: Passing (type, 1) or '1type' as a synonym of type is deprecated; in a future version of numpy, it will be understood as (type, (1,)) / '(1,)type'.\n",
      "  np_resource = np.dtype([(\"resource\", np.ubyte, 1)])\n"
     ]
    }
   ],
   "source": [
    "from imblearn.under_sampling import RandomUnderSampler\n",
    "from imblearn.over_sampling import RandomOverSampler"
   ]
  },
  {
   "cell_type": "code",
   "execution_count": 60,
   "metadata": {},
   "outputs": [],
   "source": [
    "rus = RandomUnderSampler(sampling_strategy={1:4000})\n",
    "ros = RandomOverSampler()\n",
    "\n"
   ]
  },
  {
   "cell_type": "code",
   "execution_count": 61,
   "metadata": {},
   "outputs": [],
   "source": [
    "#X_train,y_train=rus.fit_sample(X_train,y_train)\n",
    "#X_train,y_train=ros.fit_sample(X_train,y_train)"
   ]
  },
  {
   "cell_type": "code",
   "execution_count": 62,
   "metadata": {},
   "outputs": [
    {
     "data": {
      "text/plain": [
       "(73815, 162)"
      ]
     },
     "execution_count": 62,
     "metadata": {},
     "output_type": "execute_result"
    }
   ],
   "source": [
    "X_train.shape"
   ]
  },
  {
   "cell_type": "code",
   "execution_count": 63,
   "metadata": {},
   "outputs": [],
   "source": [
    "import xgboost as xgb"
   ]
  },
  {
   "cell_type": "code",
   "execution_count": 64,
   "metadata": {},
   "outputs": [],
   "source": [
    "#d_train = xgb.DMatrix(data=X_train.values,label=y_train.values)\n",
    "#d_test = xgb.DMatrix(data=X_test.values)"
   ]
  },
  {
   "cell_type": "code",
   "execution_count": 65,
   "metadata": {},
   "outputs": [
    {
     "data": {
      "text/plain": [
       "0.9838379733116576"
      ]
     },
     "execution_count": 65,
     "metadata": {},
     "output_type": "execute_result"
    }
   ],
   "source": [
    "positive= (len(y_train[y_train==0]))\n",
    "neg =(len(y_train))-positive\n",
    "class_imbalance = neg/len(y_train)\n",
    "\n",
    "class_imbalance"
   ]
  },
  {
   "cell_type": "code",
   "execution_count": 66,
   "metadata": {},
   "outputs": [
    {
     "data": {
      "text/plain": [
       "XGBClassifier(base_score=0.5, booster='gbtree', colsample_bylevel=1,\n",
       "              colsample_bynode=0.9, colsample_bytree=1, gamma=0,\n",
       "              learning_rate=0.05, max_delta_step=0, max_depth=5,\n",
       "              min_child_weight=7, missing=None, n_estimators=1000, n_jobs=1,\n",
       "              nthread=None, objective='binary:logistic', random_state=1,\n",
       "              reg_alpha=0, reg_lambda=0, scale_pos_weight=1, seed=None,\n",
       "              silent=None, subsample=1, verbosity=1)"
      ]
     },
     "execution_count": 66,
     "metadata": {},
     "output_type": "execute_result"
    }
   ],
   "source": [
    "\n",
    "\n",
    "classifier = xgb.XGBClassifier(objective='binary:logistic',random_state =1,n_estimators=1500)\n",
    "classifier.set_params(**{'reg_lambda': 0,\n",
    " 'reg_alpha': 0,\n",
    " 'n_estimators': 1000,\n",
    " 'min_child_weight': 7,\n",
    " 'max_depth': 5,\n",
    " 'learning_rate': 0.05,\n",
    " 'colsample_bytree': 1,\n",
    " 'colsample_bynode': 0.9,\n",
    " 'colsample_bylevel': 1})\n",
    "classifier.fit(X_train,y_train)\n",
    "\n",
    "\n",
    "\n"
   ]
  },
  {
   "cell_type": "code",
   "execution_count": 67,
   "metadata": {},
   "outputs": [
    {
     "data": {
      "text/plain": [
       "array([[  398,   114],\n",
       "       [   81, 31043]], dtype=int64)"
      ]
     },
     "execution_count": 67,
     "metadata": {},
     "output_type": "execute_result"
    }
   ],
   "source": [
    "preds=classifier.predict(X_test)\n",
    "confusion_matrix(y_test,preds)"
   ]
  },
  {
   "cell_type": "code",
   "execution_count": 68,
   "metadata": {},
   "outputs": [],
   "source": [
    "probs = classifier.predict_proba(X_test)"
   ]
  },
  {
   "cell_type": "code",
   "execution_count": 69,
   "metadata": {},
   "outputs": [],
   "source": [
    "def predict(array):\n",
    "    new_preds = np.zeros(len(array[:,1]))\n",
    "    for i in range(len(array[:,1])):\n",
    "        if array[i,1] >0.999:\n",
    "            new_preds[i] = 1\n",
    "        else:\n",
    "            new_preds[i] =0\n",
    "    return new_preds\n",
    "    \n"
   ]
  },
  {
   "cell_type": "code",
   "execution_count": 70,
   "metadata": {},
   "outputs": [],
   "source": [
    "new_pred=predict(probs)"
   ]
  },
  {
   "cell_type": "code",
   "execution_count": 71,
   "metadata": {},
   "outputs": [
    {
     "data": {
      "text/plain": [
       "array([[  472,    40],\n",
       "       [ 6790, 24334]], dtype=int64)"
      ]
     },
     "execution_count": 71,
     "metadata": {},
     "output_type": "execute_result"
    }
   ],
   "source": [
    "confusion_matrix(y_test,new_pred)"
   ]
  },
  {
   "cell_type": "code",
   "execution_count": 72,
   "metadata": {},
   "outputs": [
    {
     "name": "stdout",
     "output_type": "stream",
     "text": [
      "[0.921875   0.78184038]\n",
      "[0.06499587 0.99835891]\n"
     ]
    }
   ],
   "source": [
    "print(recall_score(y_test,new_pred,average=None))\n",
    "print(precision_score(y_test,new_pred,average=None))"
   ]
  },
  {
   "cell_type": "code",
   "execution_count": 74,
   "metadata": {},
   "outputs": [
    {
     "data": {
      "text/plain": [
       "array([0.00181285, 0.00304103, 0.00134063, 0.0037852 , 0.00409268,\n",
       "       0.00286018, 0.00300644, 0.00377573, 0.00292333, 0.00488913,\n",
       "       0.00336898, 0.00187453, 0.00303395, 0.00365447, 0.00305151,\n",
       "       0.00487928, 0.00524288, 0.02172082, 0.00304002, 0.01711326,\n",
       "       0.        , 0.00299305, 0.        , 0.00341339, 0.0027719 ,\n",
       "       0.00287776, 0.00235189, 0.00313546, 0.00246753, 0.00333099,\n",
       "       0.00299416, 0.00379853, 0.0041438 , 0.00201211, 0.00353614,\n",
       "       0.00311491, 0.00291689, 0.00226789, 0.00309124, 0.00376684,\n",
       "       0.00318333, 0.00286718, 0.00301133, 0.00329102, 0.        ,\n",
       "       0.        , 0.00273357, 0.00284558, 0.0032242 , 0.00300527,\n",
       "       0.00344817, 0.00331139, 0.00244768, 0.00302772, 0.00360871,\n",
       "       0.00225308, 0.00298482, 0.00319162, 0.0033627 , 0.00277993,\n",
       "       0.00285762, 0.00370422, 0.0028129 , 0.00336974, 0.00232959,\n",
       "       0.00536504, 0.        , 0.        , 0.00294252, 0.00335377,\n",
       "       0.00326127, 0.00245504, 0.00163083, 0.00276648, 0.00320448,\n",
       "       0.00326476, 0.0026473 , 0.00316925, 0.        , 0.00286722,\n",
       "       0.00462843, 0.00253477, 0.00451533, 0.        , 0.00121387,\n",
       "       0.        , 0.        , 0.        , 0.        , 0.        ,\n",
       "       0.        , 0.00285602, 0.        , 0.00289905, 0.        ,\n",
       "       0.003511  , 0.00104984, 0.        , 0.0007797 , 0.00195888,\n",
       "       0.00333484, 0.00371283, 0.0058439 , 0.0025996 , 0.        ,\n",
       "       0.        , 0.        , 0.        , 0.        , 0.        ,\n",
       "       0.        , 0.        , 0.        , 0.        , 0.        ,\n",
       "       0.        , 0.        , 0.        , 0.        , 0.        ,\n",
       "       0.        , 0.00287286, 0.00264369, 0.00352115, 0.00269926,\n",
       "       0.        , 0.00320696, 0.        , 0.        , 0.00391754,\n",
       "       0.00590372, 0.00353542, 0.00514881, 0.        , 0.00207743,\n",
       "       0.00318538, 0.00457829, 0.        , 0.        , 0.        ,\n",
       "       0.        , 0.00640013, 0.        , 0.        , 0.        ,\n",
       "       0.        , 0.00349642, 0.00122219, 0.        , 0.01707253,\n",
       "       0.21368368, 0.01835932, 0.0017217 , 0.        , 0.        ,\n",
       "       0.24128772, 0.        , 0.14646667, 0.        , 0.00222421,\n",
       "       0.0032662 , 0.        ], dtype=float32)"
      ]
     },
     "execution_count": 74,
     "metadata": {},
     "output_type": "execute_result"
    }
   ],
   "source": [
    "classifier.feature_importances_"
   ]
  },
  {
   "cell_type": "code",
   "execution_count": null,
   "metadata": {},
   "outputs": [],
   "source": [
    "\n",
    "\n",
    "params={\n",
    "    'n_estimators':[100,500,1000],\n",
    "    'max_depth':[3,4,5,6],\n",
    "    'learning_rate': [0.01,0.05,0.1],\n",
    "    'colsample_bytree':[0.9,1],\n",
    "    'min_child_weight': [1,3,5,7],\n",
    "    'colsample_bylevel':[0.9,1],\n",
    "    'colsample_bynode':[0.9,1],\n",
    "    'reg_alpha':[0,1,5],\n",
    "    'reg_lambda':[0,1,5] \n",
    "    \n",
    "}\n",
    "classifier_2 = xgb.XGBClassifier(objective='binary:logistic')\n",
    "rand = RandomizedSearchCV(estimator=classifier_2,param_distributions=params,n_iter=40,cv=4,scoring='accuracy',n_jobs=-1,verbose=2)\n",
    "\n"
   ]
  },
  {
   "cell_type": "code",
   "execution_count": null,
   "metadata": {},
   "outputs": [],
   "source": [
    "rand.fit(X_train,y_train)"
   ]
  },
  {
   "cell_type": "code",
   "execution_count": null,
   "metadata": {},
   "outputs": [],
   "source": [
    "rand.best_score_"
   ]
  },
  {
   "cell_type": "code",
   "execution_count": null,
   "metadata": {},
   "outputs": [],
   "source": [
    "rand.best_params_"
   ]
  },
  {
   "cell_type": "code",
   "execution_count": null,
   "metadata": {},
   "outputs": [],
   "source": [
    "\n"
   ]
  },
  {
   "cell_type": "code",
   "execution_count": null,
   "metadata": {},
   "outputs": [],
   "source": [
    "#df[df['loan_status']=='In Grace Period'].head(20)\n",
    "\n",
    "#df[df['loan_status'] =='Late (31-120 days)']\n",
    "\n",
    "#df[df['loan_status']=='Late (16-30 days)']          \n",
    "\n",
    "#df[df['loan_status']=='Charged Off']       "
   ]
  }
 ],
 "metadata": {
  "kernelspec": {
   "display_name": "Python 3",
   "language": "python",
   "name": "python3"
  },
  "language_info": {
   "codemirror_mode": {
    "name": "ipython",
    "version": 3
   },
   "file_extension": ".py",
   "mimetype": "text/x-python",
   "name": "python",
   "nbconvert_exporter": "python",
   "pygments_lexer": "ipython3",
   "version": "3.7.6"
  }
 },
 "nbformat": 4,
 "nbformat_minor": 4
}
